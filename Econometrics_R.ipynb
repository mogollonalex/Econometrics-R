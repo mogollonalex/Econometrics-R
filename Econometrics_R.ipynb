{
  "nbformat": 4,
  "nbformat_minor": 0,
  "metadata": {
    "colab": {
      "provenance": [],
      "collapsed_sections": [],
      "toc_visible": true,
      "authorship_tag": "ABX9TyOPjpI8Z6QPBtsW1qFl5dP0",
      "include_colab_link": true
    },
    "kernelspec": {
      "name": "ir",
      "display_name": "R"
    },
    "language_info": {
      "name": "R"
    }
  },
  "cells": [
    {
      "cell_type": "markdown",
      "metadata": {
        "id": "view-in-github",
        "colab_type": "text"
      },
      "source": [
        "<a href=\"https://colab.research.google.com/github/mogollonalex/Econometrics-R/blob/main/Econometrics_R.ipynb\" target=\"_parent\"><img src=\"https://colab.research.google.com/assets/colab-badge.svg\" alt=\"Open In Colab\"/></a>"
      ]
    },
    {
      "cell_type": "code",
      "execution_count": null,
      "metadata": {
        "id": "98yvEcwm8gE1"
      },
      "outputs": [],
      "source": [
        "#     i:,:,,:i                                                              \n",
        "#    ,@B@B@@@@                                                              \n",
        "# iE2@G0qENEqMOFP                                           J       :,      \n",
        "# NB@q        @B@,  rr7:  ir7,  vi7:  :r7i  rrr::rr   i;r. .@;  7r: i  :i:, \n",
        "# u@BB2SSPSX5kB@B. vL  i ru  G .8  E. G  1i M. X7 i5 7L ,M  N  :N   k. ::iM \n",
        "# FB@BEGOOOOOEF58  Ji    77  N .1  1: Z  77 0  L: .F LX:i.  G  :L   P ,F  Z \n",
        "# 1@B@...,.,...,:  .Jvvv  Y77v .7  v. 77ru  Y  r, .v  vrr:  ;j .;   L  jiiX.\n",
        "#    U@@@B@@@@@B@:                                                          \n",
        "#     kJvLvLLLvuP                                                           \n",
        "                                                                               \n",
        "####################################################################################################\n",
        "############                   Elaborado por W. Alexander Mogollón B.           ####################\n",
        "####################################################################################################\n",
        "\n",
        "####################################################################################################\n",
        "############                              Econometría con R                     ####################\n",
        "####################################################################################################\n"
      ]
    },
    {
      "cell_type": "markdown",
      "source": [
        "##Preparando el entorno"
      ],
      "metadata": {
        "id": "ZKd-Zuo0OXX4"
      }
    },
    {
      "cell_type": "markdown",
      "source": [
        "### Instalación de las librerías necesarias"
      ],
      "metadata": {
        "id": "71v7zRv_NdWz"
      }
    },
    {
      "cell_type": "code",
      "source": [
        "install.packages(c(\"car\",\"TSA\",\"tseries\",\"lmtest\",\"fBasics\",\"rgl\",\n",
        "                  \"forecast\",\"openxlsx\",\"timsac\",\"strucchange\",\n",
        "                  \"sandwich\",\"nlme\",\"foreign\",\"gplots\",\"plm\"))"
      ],
      "metadata": {
        "colab": {
          "base_uri": "https://localhost:8080/"
        },
        "id": "dBEg14ay-S-i",
        "outputId": "5b31bbd5-a100-4f35-d399-acf7ac3fd2a0"
      },
      "execution_count": null,
      "outputs": [
        {
          "metadata": {
            "tags": null
          },
          "name": "stderr",
          "output_type": "stream",
          "text": [
            "Installing packages into ‘/usr/local/lib/R/site-library’\n",
            "(as ‘lib’ is unspecified)\n",
            "\n",
            "also installing the dependencies ‘numDeriv’, ‘SparseM’, ‘MatrixModels’, ‘minqa’, ‘nloptr’, ‘RcppEigen’, ‘xts’, ‘TTR’, ‘bitops’, ‘miscTools’, ‘rbibutils’, ‘carData’, ‘abind’, ‘pbkrtest’, ‘quantreg’, ‘lme4’, ‘leaps’, ‘locfit’, ‘quadprog’, ‘zoo’, ‘quantmod’, ‘timeDate’, ‘timeSeries’, ‘gss’, ‘stabledist’, ‘htmlwidgets’, ‘fracdiff’, ‘Rcpp’, ‘urca’, ‘RcppArmadillo’, ‘gtools’, ‘caTools’, ‘bdsmatrix’, ‘collapse’, ‘maxLik’, ‘Rdpack’, ‘Formula’\n",
            "\n",
            "\n",
            "Warning message in install.packages(c(\"car\", \"TSA\", \"tseries\", \"lmtest\", \"fBasics\", :\n",
            "“installation of package ‘collapse’ had non-zero exit status”\n",
            "Warning message in install.packages(c(\"car\", \"TSA\", \"tseries\", \"lmtest\", \"fBasics\", :\n",
            "“installation of package ‘rgl’ had non-zero exit status”\n",
            "Warning message in install.packages(c(\"car\", \"TSA\", \"tseries\", \"lmtest\", \"fBasics\", :\n",
            "“installation of package ‘openxlsx’ had non-zero exit status”\n"
          ]
        }
      ]
    },
    {
      "cell_type": "markdown",
      "source": [
        "Notas personales sobre la liberia en función a la utilidad"
      ],
      "metadata": {
        "id": "7qYN2mpMNprE"
      }
    },
    {
      "cell_type": "code",
      "source": [
        "### Factor inflador de varianza (multicolinealidad)\n",
        "library(car)\n",
        "###Heterocedásticidad \n",
        "library(lmtest)\n",
        "### MCG\n",
        "library(nlme)"
      ],
      "metadata": {
        "id": "K8Ewyhnv-RBK"
      },
      "execution_count": null,
      "outputs": []
    },
    {
      "cell_type": "markdown",
      "source": [
        "###Importamos las liberías correspondientes"
      ],
      "metadata": {
        "id": "CURqQlFAOEDW"
      }
    },
    {
      "cell_type": "code",
      "source": [
        "library(car)\n",
        "library(TSA)\n",
        "library(tseries)\n",
        "library(lmtest)\n",
        "library(fBasics)\n",
        "library(rgl)\n",
        "library(forecast)\n",
        "library(openxlsx)\n",
        "library(timsac)\n",
        "library(strucchange) \n",
        "library(sandwich) \n",
        "library(nlme)\n",
        "library(foreign)\n",
        "library(gplots)\n",
        "library(plm)"
      ],
      "metadata": {
        "id": "8EtYIqKO-fQ1"
      },
      "execution_count": null,
      "outputs": []
    },
    {
      "cell_type": "markdown",
      "source": [
        "##Preparación de los datos"
      ],
      "metadata": {
        "id": "7M5BkQ4tOna4"
      }
    },
    {
      "cell_type": "markdown",
      "source": [
        "###Importamos nuestros datos"
      ],
      "metadata": {
        "id": "7r66bMJlOJxx"
      }
    },
    {
      "cell_type": "code",
      "source": [
        "path = \"https://raw.githubusercontent.com/mogollonalex/data/main/datosec.txt\"\n",
        "datos <-read.table(path,  header=TRUE, sep=\";\", na.strings=\"NA\", dec=\".\", strip.white=TRUE)\n",
        "datos"
      ],
      "metadata": {
        "id": "wm76dCTJ-gST"
      },
      "execution_count": null,
      "outputs": []
    },
    {
      "cell_type": "markdown",
      "source": [
        "### Extracción de nuestros datos para transformadorlos en series de tiempo"
      ],
      "metadata": {
        "id": "KhVO03yBORt7"
      }
    },
    {
      "cell_type": "code",
      "source": [
        "year <-datos$year\n",
        "year\n",
        "PIBpc <-datos$PIBpc\n",
        "PIBpc\n",
        "GCF <-datos$GCF\n",
        "GCF\n",
        "GCFG <- datos$GCFG\n",
        "GCFG\n",
        "FBK <- datos$FBK\n",
        "FBK"
      ],
      "metadata": {
        "id": "T2taPD-p-jSv"
      },
      "execution_count": null,
      "outputs": []
    },
    {
      "cell_type": "code",
      "source": [
        "year=ts(year, start=1990, frequency=1)\n",
        "year\n",
        "PIBpc=ts(PIBpc, start=1990, frequency=1)\n",
        "PIBpc\n",
        "GCF=ts(GCF, start=1990, frequency=1)\n",
        "GCF\n",
        "GCFG=ts(GCFG, start=1990, frequency=1)\n",
        "GCFG\n",
        "FBK=ts(FBK, start=1990, frequency=1)\n",
        "FBK"
      ],
      "metadata": {
        "id": "mOynWQxS-krs"
      },
      "execution_count": null,
      "outputs": []
    },
    {
      "cell_type": "markdown",
      "source": [
        "##Regresión lineal multiple"
      ],
      "metadata": {
        "id": "ZRcozH7oO6Am"
      }
    },
    {
      "cell_type": "code",
      "source": [
        "###Modelo de regresión múltiple\n",
        "mod1=lm(PIBpc~GCF+GCFG+FBK, x=T)\n",
        "summary(mod1)"
      ],
      "metadata": {
        "id": "orjQCFGq-meH"
      },
      "execution_count": null,
      "outputs": []
    },
    {
      "cell_type": "markdown",
      "source": [
        "##Pruebas estadísticas"
      ],
      "metadata": {
        "id": "pTopmWTyPA5B"
      }
    },
    {
      "cell_type": "markdown",
      "source": [
        "###Normalidad de residuos"
      ],
      "metadata": {
        "id": "aop4SKLkPIPb"
      }
    },
    {
      "cell_type": "code",
      "source": [
        "#Normalidad\n",
        "res=residuals(mod1)\n",
        "shapiro.test(res)\n",
        "AIC(mod1)\n",
        "BIC(mod1)\n"
      ],
      "metadata": {
        "id": "c-Q7-KuI-nvU"
      },
      "execution_count": null,
      "outputs": []
    },
    {
      "cell_type": "markdown",
      "source": [
        "###Matríz de correlación"
      ],
      "metadata": {
        "id": "IKZDRmnTPR5Y"
      }
    },
    {
      "cell_type": "code",
      "source": [
        "####Matriz de correlaciones simples\n",
        "m=data.frame(PIBpc,GCF,GCFG,FBK)\n",
        "m"
      ],
      "metadata": {
        "id": "5PBg8eoyHt2b"
      },
      "execution_count": null,
      "outputs": []
    },
    {
      "cell_type": "code",
      "source": [
        "#Correlacion\n",
        "cor(m)"
      ],
      "metadata": {
        "id": "MjQxejs6-pAd"
      },
      "execution_count": null,
      "outputs": []
    },
    {
      "cell_type": "markdown",
      "source": [
        "###Multicolinealidad"
      ],
      "metadata": {
        "id": "DD8VrS8YPXt1"
      }
    },
    {
      "cell_type": "code",
      "source": [
        "#Multicolinealidad\n",
        "vif(mod1)"
      ],
      "metadata": {
        "id": "zVD0Srvq-qyT"
      },
      "execution_count": null,
      "outputs": []
    },
    {
      "cell_type": "markdown",
      "source": [
        "###Heterocedásticidad"
      ],
      "metadata": {
        "id": "3q0Mi-kMPbD9"
      }
    },
    {
      "cell_type": "code",
      "source": [
        "#Pruebas para detectar heterocedásticidad \n",
        "# Prueba de Breush-Pagan-Godfrey (BPG)\n",
        "bptest(mod1)"
      ],
      "metadata": {
        "id": "nlKcswbw-sdU"
      },
      "execution_count": null,
      "outputs": []
    },
    {
      "cell_type": "markdown",
      "source": [
        "###Autocorrelación"
      ],
      "metadata": {
        "id": "nyP2ytJuPeh2"
      }
    },
    {
      "cell_type": "code",
      "source": [
        "#Pruebas para detectar autocorrelacionados. \n",
        "# Test de Breush Godfrey\n",
        "bgtest(mod1, order = 2, order.by = NULL, type = c(\"Chisq\"),\n",
        "data = datos)"
      ],
      "metadata": {
        "id": "e4hfydqI-t4G"
      },
      "execution_count": null,
      "outputs": []
    },
    {
      "cell_type": "markdown",
      "source": [
        "###Error de especificación"
      ],
      "metadata": {
        "id": "I5IDQxscPiLY"
      }
    },
    {
      "cell_type": "code",
      "source": [
        "# Error de especificación\n",
        "##Test de Ramsey-Reset\n",
        "resettest(mod1)"
      ],
      "metadata": {
        "id": "9gYvMGAL-vFc"
      },
      "execution_count": null,
      "outputs": []
    },
    {
      "cell_type": "markdown",
      "source": [
        "##Corrección de problemas Econometrícos"
      ],
      "metadata": {
        "id": "mNGpav5vPlg7"
      }
    },
    {
      "cell_type": "markdown",
      "source": [
        "###Corregir autocorrelación de residuos\n",
        "a) modelo en diferencia, b) agregar variable de tendencia"
      ],
      "metadata": {
        "id": "HqiLbwg_QFOn"
      }
    },
    {
      "cell_type": "markdown",
      "source": [
        "a) Variables en diferencia"
      ],
      "metadata": {
        "id": "zZe0La1WQNWM"
      }
    },
    {
      "cell_type": "code",
      "source": [
        "################\n",
        "# Para corregir autocorreción \n",
        "# a) modelo en diferencia, b) agregar variable de tendencia\n",
        "\n",
        "# a) Variables en diferencia\n",
        "\n",
        "dPIBpc = diff(PIBpc)\n",
        "dPIBpc\n",
        "\n",
        "dGCF = diff(GCF)\n",
        "dGCF\n",
        "\n",
        "dGCFG = diff(GCFG)\n",
        "dGCFG\n",
        "\n",
        "dFBK = diff(FBK)\n",
        "dFBK\n",
        "\n",
        "###Modelo de regresión múltiple\n",
        "mod1=lm(dPIBpc~dGCF+dGCFG+dFBK, x=T)\n",
        "summary(mod1)\n",
        "\n",
        "#Normalidad\n",
        "res=residuals(mod1)\n",
        "shapiro.test(res)\n",
        "\n",
        "#Multicolinealidad\n",
        "vif(mod1)\n",
        "\n",
        "#Pruebas para detectar autocorrelacionados. \n",
        "# Test de Breush Godfrey\n",
        "bgtest(mod1, order = 2, order.by = NULL, type = c(\"Chisq\"),\n",
        "data = datos)\n",
        "\n",
        "# Error de especificación\n",
        "##Test de Ramsey-Reset\n",
        "resettest(mod1)\n",
        "\n"
      ],
      "metadata": {
        "id": "7YFHUYgA-wbe"
      },
      "execution_count": null,
      "outputs": []
    },
    {
      "cell_type": "markdown",
      "source": [
        "b) agregar variable de tendencia"
      ],
      "metadata": {
        "id": "1WKhvuYAKZVT"
      }
    },
    {
      "cell_type": "code",
      "source": [
        "# b) Agregar variable de tendencia\n",
        "\n",
        "# modelo\n",
        "\n",
        "###Modelo de regresión múltiple\n",
        "mod1=lm(PIBpc~GCF+GCFG+FBK+year, x=T)\n",
        "summary(mod1)\n",
        "\n",
        "#Normalidad\n",
        "res=residuals(mod1)\n",
        "shapiro.test(res)\n",
        "\n",
        "#Multicolinealidad\n",
        "vif(mod1)\n",
        "\n",
        "#Pruebas para detectar autocorrelacionados. \n",
        "# Test de Breush Godfrey\n",
        "bgtest(mod1, order = 2, order.by = NULL, type = c(\"Chisq\"),\n",
        "data = datos)\n",
        "\n",
        "# Error de especificación\n",
        "##Test de Ramsey-Reset\n",
        "resettest(mod1)\n",
        "\n"
      ],
      "metadata": {
        "id": "UKZsupW9QmIK"
      },
      "execution_count": null,
      "outputs": []
    },
    {
      "cell_type": "markdown",
      "source": [
        "###Corregir Heterocedasticidad de residuos"
      ],
      "metadata": {
        "id": "T4Xo7rZ6KnqK"
      }
    },
    {
      "cell_type": "markdown",
      "source": [
        "a) MCG"
      ],
      "metadata": {
        "id": "ekv2fiG1KvNk"
      }
    },
    {
      "cell_type": "code",
      "source": [
        "################\n",
        "# Para corregir heterocedasticidad\n",
        "# a) MCG, b) Aplicar transformación logarítmica\n",
        "\n",
        "# a) MCG\n",
        "\n",
        "\n",
        "###Modelo de regresión múltiple\n",
        "\n",
        "\n",
        "mod1= gls(PIBpc~GCF+GCFG+FBK)\n",
        "summary(mod1)\n",
        "\n",
        "#Normalidad\n",
        "res=residuals(mod1)\n",
        "shapiro.test(res)\n",
        "\n",
        "#Multicolinealidad\n",
        "vif(mod1)\n",
        "\n"
      ],
      "metadata": {
        "id": "u-5L6neTKlzR"
      },
      "execution_count": null,
      "outputs": []
    },
    {
      "cell_type": "markdown",
      "source": [
        "b) Aplicar transformación logarítmica"
      ],
      "metadata": {
        "id": "Su4g60r9K0QM"
      }
    },
    {
      "cell_type": "code",
      "source": [
        "# b) Aplicar transformación logarítmica\n",
        "\n",
        "#Variables en logaritmo\n",
        "\n",
        "lPIBpc = log(PIBpc)\n",
        "lPIBpc\n",
        "\n",
        "lGCF = log(GCF)\n",
        "lGCF\n",
        "\n",
        "lGCFG = log(GCFG)\n",
        "lGCFG\n",
        "\n",
        "lFBK = log(FBK)\n",
        "lFBK\n",
        "\n",
        "###Modelo de regresión múltiple\n",
        "mod1=lm(lPIBpc~lGCF+lGCFG+lFBK, x=T)\n",
        "summary(mod1)\n",
        "\n",
        "#Normalidad\n",
        "res=residuals(mod1)\n",
        "shapiro.test(res)\n",
        "\n",
        "#Multicolinealidad\n",
        "vif(mod1)\n",
        "\n",
        "#Pruebas para detectar heterocedásticidad \n",
        "# Prueba de Breush-Pagan-Godfrey (BPG)\n",
        "bptest(mod1)\n",
        "\n",
        "# Error de especificación\n",
        "##Test de Ramsey-Reset\n",
        "resettest(mod1)"
      ],
      "metadata": {
        "id": "BOYuRpq_Kztw"
      },
      "execution_count": null,
      "outputs": []
    },
    {
      "cell_type": "code",
      "source": [
        "print(\"Hola mundo!\")"
      ],
      "metadata": {
        "id": "f-ZT_9P5KlpE"
      },
      "execution_count": null,
      "outputs": []
    },
    {
      "cell_type": "code",
      "source": [
        "sprintf(\"la suma de a + b es %s,y la de a-b es %s\",a+b, "
      ],
      "metadata": {
        "id": "7ZqT4QngNHOh"
      },
      "execution_count": null,
      "outputs": []
    }
  ]
}